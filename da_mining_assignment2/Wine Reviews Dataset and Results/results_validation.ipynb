{
 "cells": [
  {
   "attachments": {},
   "cell_type": "markdown",
   "metadata": {},
   "source": [
    "# Imports"
   ]
  },
  {
   "cell_type": "code",
   "execution_count": 1,
   "metadata": {},
   "outputs": [],
   "source": [
    "import pandas as pd\n",
    "import numpy as np\n",
    "import pickle"
   ]
  },
  {
   "cell_type": "code",
   "execution_count": 2,
   "metadata": {},
   "outputs": [],
   "source": [
    "def to_pkl(data, filename):\n",
    "    file = open(filename, 'wb')\n",
    "    pickle.dump(data, file)\n",
    "\n",
    "def from_pkl(filename):\n",
    "    file = open(filename, 'rb') \n",
    "    return pickle.load(file)"
   ]
  },
  {
   "cell_type": "code",
   "execution_count": 3,
   "metadata": {},
   "outputs": [],
   "source": [
    "apyori_res = from_pkl('frequent_itemsets_apyori.pkl')\n",
    "candidate_gen_chunks_res = from_pkl('frequent_itemsets_candidate_gen_chunks.pkl')\n",
    "candidate_gen_res = from_pkl('frequent_itemsets_candidate_gen.pkl')\n",
    "fpgrowth_res = from_pkl('frequent_itemsets_fpgrowth.pkl')"
   ]
  },
  {
   "attachments": {},
   "cell_type": "markdown",
   "metadata": {},
   "source": [
    "# Convert into Same Format"
   ]
  },
  {
   "attachments": {},
   "cell_type": "markdown",
   "metadata": {},
   "source": [
    "Dictionary mapping frozenset -> support"
   ]
  },
  {
   "cell_type": "code",
   "execution_count": 4,
   "metadata": {},
   "outputs": [],
   "source": [
    "apyori_dict = {}\n",
    "for res in apyori_res:\n",
    "    apyori_dict[res[0]] = res[1]"
   ]
  },
  {
   "cell_type": "code",
   "execution_count": 26,
   "metadata": {},
   "outputs": [],
   "source": [
    "LEN = 169451"
   ]
  },
  {
   "cell_type": "code",
   "execution_count": 27,
   "metadata": {},
   "outputs": [],
   "source": [
    "candidate_gen_diskbased_dict = {}\n",
    "for i, l in enumerate(candidate_gen_chunks_res):\n",
    "    for key in l.keys():\n",
    "        new_key = key\n",
    "        if i==0: new_key = tuple([key])\n",
    "        candidate_gen_diskbased_dict[frozenset(new_key)] = l[key]/LEN"
   ]
  },
  {
   "cell_type": "code",
   "execution_count": 8,
   "metadata": {},
   "outputs": [],
   "source": [
    "candidate_gen_dict = {}\n",
    "for res in candidate_gen_res:\n",
    "    candidate_gen_dict[res[0]] = res[1]\n",
    "fpgrowth_dict = {}\n",
    "for res in fpgrowth_res:\n",
    "    fpgrowth_dict[res[0]] = res[1]"
   ]
  },
  {
   "attachments": {},
   "cell_type": "markdown",
   "metadata": {},
   "source": [
    "# Verify Results"
   ]
  },
  {
   "cell_type": "code",
   "execution_count": 30,
   "metadata": {},
   "outputs": [
    {
     "data": {
      "text/plain": [
       "True"
      ]
     },
     "execution_count": 30,
     "metadata": {},
     "output_type": "execute_result"
    }
   ],
   "source": [
    "set(apyori_dict.keys()) == set(candidate_gen_diskbased_dict.keys())"
   ]
  },
  {
   "cell_type": "code",
   "execution_count": 31,
   "metadata": {},
   "outputs": [
    {
     "data": {
      "text/plain": [
       "True"
      ]
     },
     "execution_count": 31,
     "metadata": {},
     "output_type": "execute_result"
    }
   ],
   "source": [
    "set(apyori_dict.keys()) == set(candidate_gen_dict.keys())"
   ]
  },
  {
   "cell_type": "code",
   "execution_count": 32,
   "metadata": {},
   "outputs": [
    {
     "data": {
      "text/plain": [
       "True"
      ]
     },
     "execution_count": 32,
     "metadata": {},
     "output_type": "execute_result"
    }
   ],
   "source": [
    "set(apyori_dict.keys()) == set(fpgrowth_dict.keys())"
   ]
  },
  {
   "cell_type": "code",
   "execution_count": 28,
   "metadata": {},
   "outputs": [],
   "source": [
    "for key in fpgrowth_dict.keys():\n",
    "    val = apyori_dict[key]\n",
    "    candidate_gen_diskbased_key = candidate_gen_diskbased_dict[key]\n",
    "    candidate_gen_key = candidate_gen_dict[key]\n",
    "    fpgrowth_key = fpgrowth_dict[key]\n",
    "    if candidate_gen_diskbased_key==val and candidate_gen_key==val and fpgrowth_key==val:\n",
    "        continue\n",
    "    print(key)\n",
    "    print(candidate_gen_diskbased_key, candidate_gen_key, fpgrowth_key)"
   ]
  }
 ],
 "metadata": {
  "kernelspec": {
   "display_name": "Python 3",
   "language": "python",
   "name": "python3"
  },
  "language_info": {
   "codemirror_mode": {
    "name": "ipython",
    "version": 3
   },
   "file_extension": ".py",
   "mimetype": "text/x-python",
   "name": "python",
   "nbconvert_exporter": "python",
   "pygments_lexer": "ipython3",
   "version": "3.11.3"
  },
  "orig_nbformat": 4
 },
 "nbformat": 4,
 "nbformat_minor": 2
}
