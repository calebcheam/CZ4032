{
 "cells": [
  {
   "cell_type": "markdown",
   "metadata": {},
   "source": [
    "#### k-NN on wine dataset"
   ]
  },
  {
   "cell_type": "code",
   "execution_count": 164,
   "metadata": {},
   "outputs": [],
   "source": [
    "import pandas as pd\n",
    "from ast import literal_eval\n",
    "import re\n",
    "import pickle\n",
    "import numpy as np\n",
    "from sklearn.model_selection import train_test_split\n",
    "from sklearn.neighbors import KNeighborsClassifier\n",
    "from sklearn.metrics import classification_report, accuracy_score\n",
    "from sklearn.decomposition import TruncatedSVD"
   ]
  },
  {
   "cell_type": "code",
   "execution_count": 165,
   "metadata": {},
   "outputs": [],
   "source": [
    "def unpickle(file_path):\n",
    "    # file_path = 'path/to/your/pickled_object.pkl'\n",
    "    with open(file_path, 'rb') as file:\n",
    "        unpickled_object = pickle.load(file)\n",
    "    return unpickled_object"
   ]
  },
  {
   "cell_type": "code",
   "execution_count": 166,
   "metadata": {},
   "outputs": [
    {
     "name": "stdout",
     "output_type": "stream",
     "text": [
      "169329\n",
      "['apple', 'acidity', 'sage', 'expressive', 'herb', 'tropical', 'brisk', 'citrus', 'broom', 'fruit']\n"
     ]
    }
   ],
   "source": [
    "transactions = unpickle(\"transactions.pkl\")\n",
    "print(len(transactions))\n",
    "print(transactions[0])"
   ]
  },
  {
   "cell_type": "code",
   "execution_count": 167,
   "metadata": {},
   "outputs": [
    {
     "name": "stdout",
     "output_type": "stream",
     "text": [
      "(169329, 1060)\n"
     ]
    }
   ],
   "source": [
    "matrix = unpickle(\"matrix.pkl\")\n",
    "print(matrix.shape)"
   ]
  },
  {
   "cell_type": "markdown",
   "metadata": {},
   "source": [
    "#### merge the binary columns with target continent"
   ]
  },
  {
   "cell_type": "code",
   "execution_count": 168,
   "metadata": {},
   "outputs": [
    {
     "name": "stdout",
     "output_type": "stream",
     "text": [
      "(169329, 1)\n"
     ]
    },
    {
     "name": "stderr",
     "output_type": "stream",
     "text": [
      "/var/folders/nx/kk9254gs11j6wf22p7z4mb140000gn/T/ipykernel_28101/3048061956.py:1: DtypeWarning: Columns (9,10,11) have mixed types. Specify dtype option on import or set low_memory=False.\n",
      "  raw_df = pd.read_csv(\"03_winemag-data-reduced.csv\", index_col=0)\n"
     ]
    }
   ],
   "source": [
    "raw_df = pd.read_csv(\"03_winemag-data-reduced.csv\", index_col=0)\n",
    "raw_df = raw_df[['country']]\n",
    "print(raw_df.shape)"
   ]
  },
  {
   "cell_type": "code",
   "execution_count": 169,
   "metadata": {},
   "outputs": [],
   "source": [
    "import country_converter as coco\n",
    "import geonamescache\n",
    "\n",
    "# maps the country to ISO2 code \n",
    "cc = coco.CountryConverter()\n",
    "iso2_codes = cc.pandas_convert(series=raw_df['country'], to='ISO2')  \n",
    "raw_df['iso2'] = iso2_codes \n",
    "\n",
    "# get the dictionary mapping ISO2 to the continent \n",
    "gc = geonamescache.GeonamesCache()\n",
    "countries = gc.get_countries()\n",
    "ISO2_continent = {}\n",
    "for c in countries.keys():\n",
    "    ISO2_continent[c] = countries[c]['continentcode']\n",
    "    \n",
    "# create continent column\n",
    "raw_df['continent'] = raw_df['iso2'].map(ISO2_continent)"
   ]
  },
  {
   "cell_type": "markdown",
   "metadata": {},
   "source": [
    "#### train test split first"
   ]
  },
  {
   "cell_type": "code",
   "execution_count": 170,
   "metadata": {},
   "outputs": [],
   "source": [
    "df = pd.DataFrame(matrix)\n",
    "df['continent'] = raw_df['continent']"
   ]
  },
  {
   "cell_type": "code",
   "execution_count": 171,
   "metadata": {},
   "outputs": [
    {
     "data": {
      "text/plain": [
       "(169228, 1061)"
      ]
     },
     "execution_count": 171,
     "metadata": {},
     "output_type": "execute_result"
    }
   ],
   "source": [
    "df = df.dropna()\n",
    "df.shape"
   ]
  },
  {
   "cell_type": "code",
   "execution_count": 172,
   "metadata": {},
   "outputs": [],
   "source": [
    "X = df.drop(columns=['continent'])\n",
    "y = df[['continent']]"
   ]
  },
  {
   "cell_type": "code",
   "execution_count": 173,
   "metadata": {},
   "outputs": [],
   "source": [
    "X_train, X_test, y_train, y_test = train_test_split(X, y, test_size=0.2, random_state=42)"
   ]
  },
  {
   "cell_type": "code",
   "execution_count": 174,
   "metadata": {},
   "outputs": [],
   "source": [
    "from sklearn.preprocessing import StandardScaler\n",
    "scaler = StandardScaler()\n",
    "X_train_scaled = scaler.fit_transform(X_train.fillna(0))\n",
    "X_test_scaled = scaler.transform(X_test.fillna(0))"
   ]
  },
  {
   "cell_type": "code",
   "execution_count": 77,
   "metadata": {},
   "outputs": [
    {
     "name": "stdout",
     "output_type": "stream",
     "text": [
      "778\n"
     ]
    }
   ],
   "source": [
    "from sklearn.decomposition import PCA\n",
    "\n",
    "def get_optimal_pca_components(matrix, min_explained_var=0.95):\n",
    "    pca = PCA().fit(matrix)\n",
    "    cum_sum_explained_var = np.cumsum(pca.explained_variance_ratio_)\n",
    "    min_num_components = np.where(cum_sum_explained_var>=min_explained_var)[0][0] + 1\n",
    "    return min_num_components\n",
    "\n",
    "min_num_components = get_optimal_pca_components(X_train_scaled, min_explained_var=0.95)\n",
    "print(min_num_components)"
   ]
  },
  {
   "cell_type": "code",
   "execution_count": 78,
   "metadata": {},
   "outputs": [],
   "source": [
    "transformed = PCA(n_components=min_num_components).fit(X_train_scaled)"
   ]
  },
  {
   "cell_type": "code",
   "execution_count": 80,
   "metadata": {},
   "outputs": [],
   "source": [
    "# apply same PCA on both X_train and X_test\n",
    "# make dataframe using the PCs generated\n",
    "X_train_PCA = pd.DataFrame(transformed.transform(X_train_scaled))\n",
    "X_test_PCA = pd.DataFrame(transformed.transform(X_test_scaled))"
   ]
  },
  {
   "cell_type": "code",
   "execution_count": 175,
   "metadata": {},
   "outputs": [
    {
     "name": "stderr",
     "output_type": "stream",
     "text": [
      "/Users/clarissajew/Desktop/da mining apriori/.venv/lib/python3.9/site-packages/sklearn/neighbors/_classification.py:233: DataConversionWarning: A column-vector y was passed when a 1d array was expected. Please change the shape of y to (n_samples,), for example using ravel().\n",
      "  return self._fit(X, y)\n",
      "/Users/clarissajew/Desktop/da mining apriori/.venv/lib/python3.9/site-packages/sklearn/metrics/_classification.py:1471: UndefinedMetricWarning: Precision and F-score are ill-defined and being set to 0.0 in labels with no predicted samples. Use `zero_division` parameter to control this behavior.\n",
      "  _warn_prf(average, modifier, msg_start, len(result))\n",
      "/Users/clarissajew/Desktop/da mining apriori/.venv/lib/python3.9/site-packages/sklearn/metrics/_classification.py:1471: UndefinedMetricWarning: Precision and F-score are ill-defined and being set to 0.0 in labels with no predicted samples. Use `zero_division` parameter to control this behavior.\n",
      "  _warn_prf(average, modifier, msg_start, len(result))\n",
      "/Users/clarissajew/Desktop/da mining apriori/.venv/lib/python3.9/site-packages/sklearn/metrics/_classification.py:1471: UndefinedMetricWarning: Precision and F-score are ill-defined and being set to 0.0 in labels with no predicted samples. Use `zero_division` parameter to control this behavior.\n",
      "  _warn_prf(average, modifier, msg_start, len(result))\n"
     ]
    },
    {
     "name": "stdout",
     "output_type": "stream",
     "text": [
      "              precision    recall  f1-score   support\n",
      "\n",
      "          AF       0.00      0.00      0.00      1782\n",
      "          AS       0.00      0.00      0.00       645\n",
      "          EU       0.46      0.89      0.60     61052\n",
      "          NA       0.45      0.13      0.20     56931\n",
      "          OC       0.00      0.00      0.00      5610\n",
      "          SA       0.00      0.00      0.00      9362\n",
      "\n",
      "    accuracy                           0.46    135382\n",
      "   macro avg       0.15      0.17      0.13    135382\n",
      "weighted avg       0.40      0.46      0.36    135382\n",
      "\n",
      "Train Accuracy: 0.4559838087781241\n"
     ]
    },
    {
     "name": "stderr",
     "output_type": "stream",
     "text": [
      "/Users/clarissajew/Desktop/da mining apriori/.venv/lib/python3.9/site-packages/sklearn/metrics/_classification.py:1471: UndefinedMetricWarning: Precision and F-score are ill-defined and being set to 0.0 in labels with no predicted samples. Use `zero_division` parameter to control this behavior.\n",
      "  _warn_prf(average, modifier, msg_start, len(result))\n",
      "/Users/clarissajew/Desktop/da mining apriori/.venv/lib/python3.9/site-packages/sklearn/metrics/_classification.py:1471: UndefinedMetricWarning: Precision and F-score are ill-defined and being set to 0.0 in labels with no predicted samples. Use `zero_division` parameter to control this behavior.\n",
      "  _warn_prf(average, modifier, msg_start, len(result))\n"
     ]
    },
    {
     "name": "stdout",
     "output_type": "stream",
     "text": [
      "              precision    recall  f1-score   support\n",
      "\n",
      "          AF       0.00      0.00      0.00       443\n",
      "          AS       0.00      0.00      0.00       183\n",
      "          EU       0.45      0.88      0.60     15223\n",
      "          NA       0.41      0.12      0.18     14225\n",
      "          OC       0.00      0.00      0.00      1350\n",
      "          SA       0.00      0.00      0.00      2422\n",
      "\n",
      "    accuracy                           0.45     33846\n",
      "   macro avg       0.14      0.17      0.13     33846\n",
      "weighted avg       0.37      0.45      0.34     33846\n",
      "\n",
      "Test Accuracy: 0.44516338710630504\n"
     ]
    },
    {
     "name": "stderr",
     "output_type": "stream",
     "text": [
      "/Users/clarissajew/Desktop/da mining apriori/.venv/lib/python3.9/site-packages/sklearn/metrics/_classification.py:1471: UndefinedMetricWarning: Precision and F-score are ill-defined and being set to 0.0 in labels with no predicted samples. Use `zero_division` parameter to control this behavior.\n",
      "  _warn_prf(average, modifier, msg_start, len(result))\n"
     ]
    }
   ],
   "source": [
    "knn = KNeighborsClassifier(n_neighbors=1000)\n",
    "knn.fit(X_train_scaled, y_train)\n",
    "y_pred = knn.predict(X_test_scaled)\n",
    "y_pred_train = knn.predict(X_train_scaled)\n",
    "\n",
    "print(classification_report(y_train, y_pred_train))\n",
    "print(\"Train Accuracy:\", accuracy_score(y_train, y_pred_train))\n",
    "print(classification_report(y_test, y_pred))\n",
    "print(\"Test Accuracy:\", accuracy_score(y_test, y_pred))"
   ]
  },
  {
   "cell_type": "code",
   "execution_count": 82,
   "metadata": {},
   "outputs": [
    {
     "name": "stderr",
     "output_type": "stream",
     "text": [
      "/Users/clarissajew/Desktop/da mining apriori/.venv/lib/python3.9/site-packages/sklearn/neighbors/_classification.py:233: DataConversionWarning: A column-vector y was passed when a 1d array was expected. Please change the shape of y to (n_samples,), for example using ravel().\n",
      "  return self._fit(X, y)\n"
     ]
    },
    {
     "data": {
      "text/html": [
       "<style>#sk-container-id-2 {color: black;}#sk-container-id-2 pre{padding: 0;}#sk-container-id-2 div.sk-toggleable {background-color: white;}#sk-container-id-2 label.sk-toggleable__label {cursor: pointer;display: block;width: 100%;margin-bottom: 0;padding: 0.3em;box-sizing: border-box;text-align: center;}#sk-container-id-2 label.sk-toggleable__label-arrow:before {content: \"▸\";float: left;margin-right: 0.25em;color: #696969;}#sk-container-id-2 label.sk-toggleable__label-arrow:hover:before {color: black;}#sk-container-id-2 div.sk-estimator:hover label.sk-toggleable__label-arrow:before {color: black;}#sk-container-id-2 div.sk-toggleable__content {max-height: 0;max-width: 0;overflow: hidden;text-align: left;background-color: #f0f8ff;}#sk-container-id-2 div.sk-toggleable__content pre {margin: 0.2em;color: black;border-radius: 0.25em;background-color: #f0f8ff;}#sk-container-id-2 input.sk-toggleable__control:checked~div.sk-toggleable__content {max-height: 200px;max-width: 100%;overflow: auto;}#sk-container-id-2 input.sk-toggleable__control:checked~label.sk-toggleable__label-arrow:before {content: \"▾\";}#sk-container-id-2 div.sk-estimator input.sk-toggleable__control:checked~label.sk-toggleable__label {background-color: #d4ebff;}#sk-container-id-2 div.sk-label input.sk-toggleable__control:checked~label.sk-toggleable__label {background-color: #d4ebff;}#sk-container-id-2 input.sk-hidden--visually {border: 0;clip: rect(1px 1px 1px 1px);clip: rect(1px, 1px, 1px, 1px);height: 1px;margin: -1px;overflow: hidden;padding: 0;position: absolute;width: 1px;}#sk-container-id-2 div.sk-estimator {font-family: monospace;background-color: #f0f8ff;border: 1px dotted black;border-radius: 0.25em;box-sizing: border-box;margin-bottom: 0.5em;}#sk-container-id-2 div.sk-estimator:hover {background-color: #d4ebff;}#sk-container-id-2 div.sk-parallel-item::after {content: \"\";width: 100%;border-bottom: 1px solid gray;flex-grow: 1;}#sk-container-id-2 div.sk-label:hover label.sk-toggleable__label {background-color: #d4ebff;}#sk-container-id-2 div.sk-serial::before {content: \"\";position: absolute;border-left: 1px solid gray;box-sizing: border-box;top: 0;bottom: 0;left: 50%;z-index: 0;}#sk-container-id-2 div.sk-serial {display: flex;flex-direction: column;align-items: center;background-color: white;padding-right: 0.2em;padding-left: 0.2em;position: relative;}#sk-container-id-2 div.sk-item {position: relative;z-index: 1;}#sk-container-id-2 div.sk-parallel {display: flex;align-items: stretch;justify-content: center;background-color: white;position: relative;}#sk-container-id-2 div.sk-item::before, #sk-container-id-2 div.sk-parallel-item::before {content: \"\";position: absolute;border-left: 1px solid gray;box-sizing: border-box;top: 0;bottom: 0;left: 50%;z-index: -1;}#sk-container-id-2 div.sk-parallel-item {display: flex;flex-direction: column;z-index: 1;position: relative;background-color: white;}#sk-container-id-2 div.sk-parallel-item:first-child::after {align-self: flex-end;width: 50%;}#sk-container-id-2 div.sk-parallel-item:last-child::after {align-self: flex-start;width: 50%;}#sk-container-id-2 div.sk-parallel-item:only-child::after {width: 0;}#sk-container-id-2 div.sk-dashed-wrapped {border: 1px dashed gray;margin: 0 0.4em 0.5em 0.4em;box-sizing: border-box;padding-bottom: 0.4em;background-color: white;}#sk-container-id-2 div.sk-label label {font-family: monospace;font-weight: bold;display: inline-block;line-height: 1.2em;}#sk-container-id-2 div.sk-label-container {text-align: center;}#sk-container-id-2 div.sk-container {/* jupyter's `normalize.less` sets `[hidden] { display: none; }` but bootstrap.min.css set `[hidden] { display: none !important; }` so we also need the `!important` here to be able to override the default hidden behavior on the sphinx rendered scikit-learn.org. See: https://github.com/scikit-learn/scikit-learn/issues/21755 */display: inline-block !important;position: relative;}#sk-container-id-2 div.sk-text-repr-fallback {display: none;}</style><div id=\"sk-container-id-2\" class=\"sk-top-container\"><div class=\"sk-text-repr-fallback\"><pre>KNeighborsClassifier(n_neighbors=1000)</pre><b>In a Jupyter environment, please rerun this cell to show the HTML representation or trust the notebook. <br />On GitHub, the HTML representation is unable to render, please try loading this page with nbviewer.org.</b></div><div class=\"sk-container\" hidden><div class=\"sk-item\"><div class=\"sk-estimator sk-toggleable\"><input class=\"sk-toggleable__control sk-hidden--visually\" id=\"sk-estimator-id-2\" type=\"checkbox\" checked><label for=\"sk-estimator-id-2\" class=\"sk-toggleable__label sk-toggleable__label-arrow\">KNeighborsClassifier</label><div class=\"sk-toggleable__content\"><pre>KNeighborsClassifier(n_neighbors=1000)</pre></div></div></div></div></div>"
      ],
      "text/plain": [
       "KNeighborsClassifier(n_neighbors=1000)"
      ]
     },
     "execution_count": 82,
     "metadata": {},
     "output_type": "execute_result"
    }
   ],
   "source": [
    "knn = KNeighborsClassifier(n_neighbors=1000)\n",
    "knn.fit(X_train_PCA, y_train)"
   ]
  },
  {
   "cell_type": "code",
   "execution_count": 83,
   "metadata": {},
   "outputs": [
    {
     "name": "stderr",
     "output_type": "stream",
     "text": [
      "/Users/clarissajew/Desktop/da mining apriori/.venv/lib/python3.9/site-packages/sklearn/metrics/_classification.py:1471: UndefinedMetricWarning: Precision and F-score are ill-defined and being set to 0.0 in labels with no predicted samples. Use `zero_division` parameter to control this behavior.\n",
      "  _warn_prf(average, modifier, msg_start, len(result))\n",
      "/Users/clarissajew/Desktop/da mining apriori/.venv/lib/python3.9/site-packages/sklearn/metrics/_classification.py:1471: UndefinedMetricWarning: Precision and F-score are ill-defined and being set to 0.0 in labels with no predicted samples. Use `zero_division` parameter to control this behavior.\n",
      "  _warn_prf(average, modifier, msg_start, len(result))\n",
      "/Users/clarissajew/Desktop/da mining apriori/.venv/lib/python3.9/site-packages/sklearn/metrics/_classification.py:1471: UndefinedMetricWarning: Precision and F-score are ill-defined and being set to 0.0 in labels with no predicted samples. Use `zero_division` parameter to control this behavior.\n",
      "  _warn_prf(average, modifier, msg_start, len(result))\n"
     ]
    },
    {
     "name": "stdout",
     "output_type": "stream",
     "text": [
      "              precision    recall  f1-score   support\n",
      "\n",
      "          AF       0.00      0.00      0.00      1782\n",
      "          AS       0.00      0.00      0.00       645\n",
      "          EU       0.46      0.83      0.59     61052\n",
      "          NA       0.45      0.20      0.27     56931\n",
      "          OC       0.00      0.00      0.00      5610\n",
      "          SA       0.00      0.00      0.00      9362\n",
      "\n",
      "    accuracy                           0.46    135382\n",
      "   macro avg       0.15      0.17      0.14    135382\n",
      "weighted avg       0.40      0.46      0.38    135382\n",
      "\n",
      "Train Accuracy: 0.45738724498086897\n"
     ]
    },
    {
     "name": "stderr",
     "output_type": "stream",
     "text": [
      "/Users/clarissajew/Desktop/da mining apriori/.venv/lib/python3.9/site-packages/sklearn/metrics/_classification.py:1471: UndefinedMetricWarning: Precision and F-score are ill-defined and being set to 0.0 in labels with no predicted samples. Use `zero_division` parameter to control this behavior.\n",
      "  _warn_prf(average, modifier, msg_start, len(result))\n",
      "/Users/clarissajew/Desktop/da mining apriori/.venv/lib/python3.9/site-packages/sklearn/metrics/_classification.py:1471: UndefinedMetricWarning: Precision and F-score are ill-defined and being set to 0.0 in labels with no predicted samples. Use `zero_division` parameter to control this behavior.\n",
      "  _warn_prf(average, modifier, msg_start, len(result))\n"
     ]
    },
    {
     "name": "stdout",
     "output_type": "stream",
     "text": [
      "              precision    recall  f1-score   support\n",
      "\n",
      "          AF       0.00      0.00      0.00       443\n",
      "          AS       0.00      0.00      0.00       183\n",
      "          EU       0.45      0.82      0.58     15223\n",
      "          NA       0.42      0.18      0.25     14225\n",
      "          OC       0.00      0.00      0.00      1350\n",
      "          SA       0.00      0.00      0.00      2422\n",
      "\n",
      "    accuracy                           0.44     33846\n",
      "   macro avg       0.14      0.17      0.14     33846\n",
      "weighted avg       0.38      0.44      0.37     33846\n",
      "\n",
      "Test Accuracy: 0.44347928854222063\n"
     ]
    },
    {
     "name": "stderr",
     "output_type": "stream",
     "text": [
      "/Users/clarissajew/Desktop/da mining apriori/.venv/lib/python3.9/site-packages/sklearn/metrics/_classification.py:1471: UndefinedMetricWarning: Precision and F-score are ill-defined and being set to 0.0 in labels with no predicted samples. Use `zero_division` parameter to control this behavior.\n",
      "  _warn_prf(average, modifier, msg_start, len(result))\n"
     ]
    }
   ],
   "source": [
    "y_pred = knn.predict(X_test_PCA)\n",
    "y_pred_train = knn.predict(X_train_PCA)\n",
    "\n",
    "print(classification_report(y_train, y_pred_train))\n",
    "print(\"Train Accuracy:\", accuracy_score(y_train, y_pred_train))\n",
    "print(classification_report(y_test, y_pred))\n",
    "print(\"Test Accuracy:\", accuracy_score(y_test, y_pred))"
   ]
  },
  {
   "cell_type": "markdown",
   "metadata": {},
   "source": [
    "#### truncated SVD (instead of PCA)"
   ]
  },
  {
   "cell_type": "code",
   "execution_count": 91,
   "metadata": {},
   "outputs": [
    {
     "name": "stdout",
     "output_type": "stream",
     "text": [
      "778\n"
     ]
    }
   ],
   "source": [
    "from sklearn.decomposition import PCA\n",
    "\n",
    "def get_optimal_svd_components(matrix, min_explained_var=0.95):\n",
    "    svd = TruncatedSVD(n_components=min(matrix.shape)-1).fit(matrix)\n",
    "\n",
    "    # Calculate cumulative explained variance\n",
    "    cum_sum_explained_var = np.cumsum(svd.explained_variance_ratio_)\n",
    "\n",
    "    # Find the minimum number of components to achieve min_explained_var\n",
    "    min_num_components = np.where(cum_sum_explained_var >= min_explained_var)[0][0] + 1\n",
    "\n",
    "    return min_num_components\n",
    "\n",
    "min_num_components = get_optimal_svd_components(X_train_scaled, min_explained_var=0.95)\n",
    "print(min_num_components)"
   ]
  },
  {
   "cell_type": "code",
   "execution_count": 94,
   "metadata": {},
   "outputs": [
    {
     "name": "stderr",
     "output_type": "stream",
     "text": [
      "/Users/clarissajew/Desktop/da mining apriori/.venv/lib/python3.9/site-packages/sklearn/neighbors/_classification.py:233: DataConversionWarning: A column-vector y was passed when a 1d array was expected. Please change the shape of y to (n_samples,), for example using ravel().\n",
      "  return self._fit(X, y)\n",
      "/Users/clarissajew/Desktop/da mining apriori/.venv/lib/python3.9/site-packages/sklearn/metrics/_classification.py:1471: UndefinedMetricWarning: Precision and F-score are ill-defined and being set to 0.0 in labels with no predicted samples. Use `zero_division` parameter to control this behavior.\n",
      "  _warn_prf(average, modifier, msg_start, len(result))\n",
      "/Users/clarissajew/Desktop/da mining apriori/.venv/lib/python3.9/site-packages/sklearn/metrics/_classification.py:1471: UndefinedMetricWarning: Precision and F-score are ill-defined and being set to 0.0 in labels with no predicted samples. Use `zero_division` parameter to control this behavior.\n",
      "  _warn_prf(average, modifier, msg_start, len(result))\n",
      "/Users/clarissajew/Desktop/da mining apriori/.venv/lib/python3.9/site-packages/sklearn/metrics/_classification.py:1471: UndefinedMetricWarning: Precision and F-score are ill-defined and being set to 0.0 in labels with no predicted samples. Use `zero_division` parameter to control this behavior.\n",
      "  _warn_prf(average, modifier, msg_start, len(result))\n"
     ]
    },
    {
     "name": "stdout",
     "output_type": "stream",
     "text": [
      "              precision    recall  f1-score   support\n",
      "\n",
      "          AF       0.00      0.00      0.00      1782\n",
      "          AS       0.00      0.00      0.00       645\n",
      "          EU       0.46      0.81      0.58     61052\n",
      "          NA       0.44      0.21      0.29     56931\n",
      "          OC       0.00      0.00      0.00      5610\n",
      "          SA       0.00      0.00      0.00      9362\n",
      "\n",
      "    accuracy                           0.45    135382\n",
      "   macro avg       0.15      0.17      0.15    135382\n",
      "weighted avg       0.39      0.45      0.38    135382\n",
      "\n",
      "Train Accuracy: 0.45381217591703477\n"
     ]
    },
    {
     "name": "stderr",
     "output_type": "stream",
     "text": [
      "/Users/clarissajew/Desktop/da mining apriori/.venv/lib/python3.9/site-packages/sklearn/metrics/_classification.py:1471: UndefinedMetricWarning: Precision and F-score are ill-defined and being set to 0.0 in labels with no predicted samples. Use `zero_division` parameter to control this behavior.\n",
      "  _warn_prf(average, modifier, msg_start, len(result))\n"
     ]
    },
    {
     "name": "stdout",
     "output_type": "stream",
     "text": [
      "              precision    recall  f1-score   support\n",
      "\n",
      "          AF       0.00      0.00      0.00       443\n",
      "          AS       0.00      0.00      0.00       183\n",
      "          EU       0.45      0.79      0.57     15223\n",
      "          NA       0.42      0.20      0.27     14225\n",
      "          OC       0.00      0.00      0.00      1350\n",
      "          SA       0.00      0.00      0.00      2422\n",
      "\n",
      "    accuracy                           0.44     33846\n",
      "   macro avg       0.14      0.17      0.14     33846\n",
      "weighted avg       0.38      0.44      0.37     33846\n",
      "\n",
      "Test Accuracy: 0.4428883767653489\n"
     ]
    },
    {
     "name": "stderr",
     "output_type": "stream",
     "text": [
      "/Users/clarissajew/Desktop/da mining apriori/.venv/lib/python3.9/site-packages/sklearn/metrics/_classification.py:1471: UndefinedMetricWarning: Precision and F-score are ill-defined and being set to 0.0 in labels with no predicted samples. Use `zero_division` parameter to control this behavior.\n",
      "  _warn_prf(average, modifier, msg_start, len(result))\n",
      "/Users/clarissajew/Desktop/da mining apriori/.venv/lib/python3.9/site-packages/sklearn/metrics/_classification.py:1471: UndefinedMetricWarning: Precision and F-score are ill-defined and being set to 0.0 in labels with no predicted samples. Use `zero_division` parameter to control this behavior.\n",
      "  _warn_prf(average, modifier, msg_start, len(result))\n"
     ]
    }
   ],
   "source": [
    "svd = TruncatedSVD(n_components=100)\n",
    "X_train_svd = svd.fit_transform(X_train.fillna(0))\n",
    "X_test_svd = svd.transform(X_test.fillna(0))\n",
    "\n",
    "knn.fit(X_train_svd, y_train)\n",
    "y_pred = knn.predict(X_test_svd)\n",
    "y_pred_train = knn.predict(X_train_svd)\n",
    "\n",
    "print(classification_report(y_train, y_pred_train))\n",
    "print(\"Train Accuracy:\", accuracy_score(y_train, y_pred_train))\n",
    "print(classification_report(y_test, y_pred))\n",
    "print(\"Test Accuracy:\", accuracy_score(y_test, y_pred))"
   ]
  },
  {
   "cell_type": "code",
   "execution_count": 93,
   "metadata": {},
   "outputs": [
    {
     "name": "stderr",
     "output_type": "stream",
     "text": [
      "/Users/clarissajew/Desktop/da mining apriori/.venv/lib/python3.9/site-packages/sklearn/neighbors/_classification.py:233: DataConversionWarning: A column-vector y was passed when a 1d array was expected. Please change the shape of y to (n_samples,), for example using ravel().\n",
      "  return self._fit(X, y)\n",
      "/Users/clarissajew/Desktop/da mining apriori/.venv/lib/python3.9/site-packages/sklearn/metrics/_classification.py:1471: UndefinedMetricWarning: Precision and F-score are ill-defined and being set to 0.0 in labels with no predicted samples. Use `zero_division` parameter to control this behavior.\n",
      "  _warn_prf(average, modifier, msg_start, len(result))\n",
      "/Users/clarissajew/Desktop/da mining apriori/.venv/lib/python3.9/site-packages/sklearn/metrics/_classification.py:1471: UndefinedMetricWarning: Precision and F-score are ill-defined and being set to 0.0 in labels with no predicted samples. Use `zero_division` parameter to control this behavior.\n",
      "  _warn_prf(average, modifier, msg_start, len(result))\n",
      "/Users/clarissajew/Desktop/da mining apriori/.venv/lib/python3.9/site-packages/sklearn/metrics/_classification.py:1471: UndefinedMetricWarning: Precision and F-score are ill-defined and being set to 0.0 in labels with no predicted samples. Use `zero_division` parameter to control this behavior.\n",
      "  _warn_prf(average, modifier, msg_start, len(result))\n"
     ]
    },
    {
     "name": "stdout",
     "output_type": "stream",
     "text": [
      "              precision    recall  f1-score   support\n",
      "\n",
      "          AF       0.00      0.00      0.00      1782\n",
      "          AS       0.00      0.00      0.00       645\n",
      "          EU       0.46      0.63      0.53     61052\n",
      "          NA       0.44      0.40      0.42     56931\n",
      "          OC       0.00      0.00      0.00      5610\n",
      "          SA       0.00      0.00      0.00      9362\n",
      "\n",
      "    accuracy                           0.45    135382\n",
      "   macro avg       0.15      0.17      0.16    135382\n",
      "weighted avg       0.39      0.45      0.42    135382\n",
      "\n",
      "Train Accuracy: 0.4519507763218153\n"
     ]
    },
    {
     "name": "stderr",
     "output_type": "stream",
     "text": [
      "/Users/clarissajew/Desktop/da mining apriori/.venv/lib/python3.9/site-packages/sklearn/metrics/_classification.py:1471: UndefinedMetricWarning: Precision and F-score are ill-defined and being set to 0.0 in labels with no predicted samples. Use `zero_division` parameter to control this behavior.\n",
      "  _warn_prf(average, modifier, msg_start, len(result))\n"
     ]
    },
    {
     "name": "stdout",
     "output_type": "stream",
     "text": [
      "              precision    recall  f1-score   support\n",
      "\n",
      "          AF       0.00      0.00      0.00       443\n",
      "          AS       0.00      0.00      0.00       183\n",
      "          EU       0.45      0.61      0.52     15223\n",
      "          NA       0.42      0.38      0.40     14225\n",
      "          OC       0.00      0.00      0.00      1350\n",
      "          SA       0.00      0.00      0.00      2422\n",
      "\n",
      "    accuracy                           0.44     33846\n",
      "   macro avg       0.14      0.17      0.15     33846\n",
      "weighted avg       0.38      0.44      0.40     33846\n",
      "\n",
      "Test Accuracy: 0.4361519825090114\n"
     ]
    },
    {
     "name": "stderr",
     "output_type": "stream",
     "text": [
      "/Users/clarissajew/Desktop/da mining apriori/.venv/lib/python3.9/site-packages/sklearn/metrics/_classification.py:1471: UndefinedMetricWarning: Precision and F-score are ill-defined and being set to 0.0 in labels with no predicted samples. Use `zero_division` parameter to control this behavior.\n",
      "  _warn_prf(average, modifier, msg_start, len(result))\n",
      "/Users/clarissajew/Desktop/da mining apriori/.venv/lib/python3.9/site-packages/sklearn/metrics/_classification.py:1471: UndefinedMetricWarning: Precision and F-score are ill-defined and being set to 0.0 in labels with no predicted samples. Use `zero_division` parameter to control this behavior.\n",
      "  _warn_prf(average, modifier, msg_start, len(result))\n"
     ]
    }
   ],
   "source": [
    "svd = TruncatedSVD(n_components=min_num_components)\n",
    "X_train_svd = svd.fit_transform(X_train.fillna(0))\n",
    "X_test_svd = svd.transform(X_test.fillna(0))\n",
    "\n",
    "knn.fit(X_train_svd, y_train)\n",
    "y_pred = knn.predict(X_test_svd)\n",
    "y_pred_train = knn.predict(X_train_svd)\n",
    "\n",
    "print(classification_report(y_train, y_pred_train))\n",
    "print(\"Train Accuracy:\", accuracy_score(y_train, y_pred_train))\n",
    "print(classification_report(y_test, y_pred))\n",
    "print(\"Test Accuracy:\", accuracy_score(y_test, y_pred))"
   ]
  },
  {
   "cell_type": "markdown",
   "metadata": {},
   "source": [
    "#### try downsampling majority class"
   ]
  },
  {
   "cell_type": "code",
   "execution_count": 97,
   "metadata": {},
   "outputs": [
    {
     "data": {
      "text/plain": [
       "continent\n",
       "EU    76275\n",
       "NA    71156\n",
       "SA    11784\n",
       "OC     6960\n",
       "AF     2225\n",
       "AS      828\n",
       "Name: count, dtype: int64"
      ]
     },
     "execution_count": 97,
     "metadata": {},
     "output_type": "execute_result"
    }
   ],
   "source": [
    "df.continent.value_counts(dropna=False)"
   ]
  },
  {
   "cell_type": "code",
   "execution_count": 98,
   "metadata": {},
   "outputs": [],
   "source": [
    "# downsample EU and NA to approximately 35k each \n",
    "from sklearn.utils import resample\n",
    "\n",
    "downsized_EU = resample(df.loc[df.continent=='EU'], replace=False, \n",
    "                        n_samples = 35000, random_state=42)\n",
    "downsized_NA = resample(df.loc[df.continent=='NA'], replace=False, \n",
    "                        n_samples = 35000, random_state=42)"
   ]
  },
  {
   "cell_type": "code",
   "execution_count": 107,
   "metadata": {},
   "outputs": [],
   "source": [
    "minorities = df[df.continent.isin(['SA', 'OC', 'AF', 'AS'])]"
   ]
  },
  {
   "cell_type": "code",
   "execution_count": 112,
   "metadata": {},
   "outputs": [],
   "source": [
    "downsized_df = pd.concat([downsized_EU, downsized_NA, minorities], axis=0)"
   ]
  },
  {
   "cell_type": "code",
   "execution_count": 113,
   "metadata": {},
   "outputs": [
    {
     "data": {
      "text/plain": [
       "(91797, 1061)"
      ]
     },
     "execution_count": 113,
     "metadata": {},
     "output_type": "execute_result"
    }
   ],
   "source": [
    "downsized_df.shape"
   ]
  },
  {
   "cell_type": "code",
   "execution_count": 115,
   "metadata": {},
   "outputs": [
    {
     "data": {
      "text/plain": [
       "continent\n",
       "EU    35000\n",
       "NA    35000\n",
       "SA    11784\n",
       "OC     6960\n",
       "AF     2225\n",
       "AS      828\n",
       "Name: count, dtype: int64"
      ]
     },
     "execution_count": 115,
     "metadata": {},
     "output_type": "execute_result"
    }
   ],
   "source": [
    "downsized_df.continent.value_counts()"
   ]
  },
  {
   "cell_type": "code",
   "execution_count": 116,
   "metadata": {},
   "outputs": [],
   "source": [
    "X = downsized_df.drop(columns=['continent'])\n",
    "y = downsized_df[['continent']]"
   ]
  },
  {
   "cell_type": "code",
   "execution_count": 117,
   "metadata": {},
   "outputs": [],
   "source": [
    "X_train, X_test, y_train, y_test = train_test_split(X, y, test_size=0.2, random_state=42)"
   ]
  },
  {
   "cell_type": "code",
   "execution_count": 118,
   "metadata": {},
   "outputs": [],
   "source": [
    "scaler = StandardScaler()\n",
    "X_train_scaled = scaler.fit_transform(X_train.fillna(0))\n",
    "X_test_scaled = scaler.transform(X_test.fillna(0))\n",
    "# PCA\n",
    "min_num_components = get_optimal_pca_components(X_train_scaled, min_explained_var=0.95)\n",
    "transformed = PCA(n_components=min_num_components).fit(X_train_scaled)\n",
    "\n",
    "X_train_PCA = pd.DataFrame(transformed.transform(X_train_scaled))\n",
    "X_test_PCA = pd.DataFrame(transformed.transform(X_test_scaled))\n",
    "\n"
   ]
  },
  {
   "cell_type": "code",
   "execution_count": 121,
   "metadata": {},
   "outputs": [
    {
     "data": {
      "text/plain": [
       "777"
      ]
     },
     "execution_count": 121,
     "metadata": {},
     "output_type": "execute_result"
    }
   ],
   "source": [
    "min_num_components"
   ]
  },
  {
   "cell_type": "code",
   "execution_count": 120,
   "metadata": {},
   "outputs": [
    {
     "name": "stderr",
     "output_type": "stream",
     "text": [
      "/Users/clarissajew/Desktop/da mining apriori/.venv/lib/python3.9/site-packages/sklearn/neighbors/_classification.py:233: DataConversionWarning: A column-vector y was passed when a 1d array was expected. Please change the shape of y to (n_samples,), for example using ravel().\n",
      "  return self._fit(X, y)\n",
      "/Users/clarissajew/Desktop/da mining apriori/.venv/lib/python3.9/site-packages/sklearn/metrics/_classification.py:1471: UndefinedMetricWarning: Precision and F-score are ill-defined and being set to 0.0 in labels with no predicted samples. Use `zero_division` parameter to control this behavior.\n",
      "  _warn_prf(average, modifier, msg_start, len(result))\n",
      "/Users/clarissajew/Desktop/da mining apriori/.venv/lib/python3.9/site-packages/sklearn/metrics/_classification.py:1471: UndefinedMetricWarning: Precision and F-score are ill-defined and being set to 0.0 in labels with no predicted samples. Use `zero_division` parameter to control this behavior.\n",
      "  _warn_prf(average, modifier, msg_start, len(result))\n",
      "/Users/clarissajew/Desktop/da mining apriori/.venv/lib/python3.9/site-packages/sklearn/metrics/_classification.py:1471: UndefinedMetricWarning: Precision and F-score are ill-defined and being set to 0.0 in labels with no predicted samples. Use `zero_division` parameter to control this behavior.\n",
      "  _warn_prf(average, modifier, msg_start, len(result))\n"
     ]
    },
    {
     "name": "stdout",
     "output_type": "stream",
     "text": [
      "              precision    recall  f1-score   support\n",
      "\n",
      "          AF       0.00      0.00      0.00      1841\n",
      "          AS       0.00      0.00      0.00       664\n",
      "          EU       0.43      0.02      0.03     28045\n",
      "          NA       0.38      0.99      0.55     27888\n",
      "          OC       0.00      0.00      0.00      5551\n",
      "          SA       0.00      0.00      0.00      9448\n",
      "\n",
      "    accuracy                           0.38     73437\n",
      "   macro avg       0.14      0.17      0.10     73437\n",
      "weighted avg       0.31      0.38      0.22     73437\n",
      "\n",
      "Train Accuracy: 0.3807208900145703\n"
     ]
    },
    {
     "name": "stderr",
     "output_type": "stream",
     "text": [
      "/Users/clarissajew/Desktop/da mining apriori/.venv/lib/python3.9/site-packages/sklearn/metrics/_classification.py:1471: UndefinedMetricWarning: Precision and F-score are ill-defined and being set to 0.0 in labels with no predicted samples. Use `zero_division` parameter to control this behavior.\n",
      "  _warn_prf(average, modifier, msg_start, len(result))\n"
     ]
    },
    {
     "name": "stdout",
     "output_type": "stream",
     "text": [
      "              precision    recall  f1-score   support\n",
      "\n",
      "          AF       0.00      0.00      0.00       384\n",
      "          AS       0.00      0.00      0.00       164\n",
      "          EU       0.33      0.01      0.02      6955\n",
      "          NA       0.39      0.98      0.55      7112\n",
      "          OC       0.00      0.00      0.00      1409\n",
      "          SA       0.00      0.00      0.00      2336\n",
      "\n",
      "    accuracy                           0.39     18360\n",
      "   macro avg       0.12      0.17      0.10     18360\n",
      "weighted avg       0.28      0.39      0.22     18360\n",
      "\n",
      "Test Accuracy: 0.3855119825708061\n"
     ]
    },
    {
     "name": "stderr",
     "output_type": "stream",
     "text": [
      "/Users/clarissajew/Desktop/da mining apriori/.venv/lib/python3.9/site-packages/sklearn/metrics/_classification.py:1471: UndefinedMetricWarning: Precision and F-score are ill-defined and being set to 0.0 in labels with no predicted samples. Use `zero_division` parameter to control this behavior.\n",
      "  _warn_prf(average, modifier, msg_start, len(result))\n",
      "/Users/clarissajew/Desktop/da mining apriori/.venv/lib/python3.9/site-packages/sklearn/metrics/_classification.py:1471: UndefinedMetricWarning: Precision and F-score are ill-defined and being set to 0.0 in labels with no predicted samples. Use `zero_division` parameter to control this behavior.\n",
      "  _warn_prf(average, modifier, msg_start, len(result))\n"
     ]
    }
   ],
   "source": [
    "knn = KNeighborsClassifier(n_neighbors=1000)\n",
    "knn.fit(X_train_PCA, y_train)\n",
    "y_pred = knn.predict(X_test_PCA)\n",
    "y_pred_train = knn.predict(X_train_PCA)\n",
    "\n",
    "print(classification_report(y_train, y_pred_train))\n",
    "print(\"Train Accuracy:\", accuracy_score(y_train, y_pred_train))\n",
    "print(classification_report(y_test, y_pred))\n",
    "print(\"Test Accuracy:\", accuracy_score(y_test, y_pred))"
   ]
  },
  {
   "cell_type": "code",
   "execution_count": 123,
   "metadata": {},
   "outputs": [
    {
     "name": "stderr",
     "output_type": "stream",
     "text": [
      "/Users/clarissajew/Desktop/da mining apriori/.venv/lib/python3.9/site-packages/sklearn/neighbors/_classification.py:233: DataConversionWarning: A column-vector y was passed when a 1d array was expected. Please change the shape of y to (n_samples,), for example using ravel().\n",
      "  return self._fit(X, y)\n",
      "/Users/clarissajew/Desktop/da mining apriori/.venv/lib/python3.9/site-packages/sklearn/metrics/_classification.py:1471: UndefinedMetricWarning: Precision and F-score are ill-defined and being set to 0.0 in labels with no predicted samples. Use `zero_division` parameter to control this behavior.\n",
      "  _warn_prf(average, modifier, msg_start, len(result))\n",
      "/Users/clarissajew/Desktop/da mining apriori/.venv/lib/python3.9/site-packages/sklearn/metrics/_classification.py:1471: UndefinedMetricWarning: Precision and F-score are ill-defined and being set to 0.0 in labels with no predicted samples. Use `zero_division` parameter to control this behavior.\n",
      "  _warn_prf(average, modifier, msg_start, len(result))\n",
      "/Users/clarissajew/Desktop/da mining apriori/.venv/lib/python3.9/site-packages/sklearn/metrics/_classification.py:1471: UndefinedMetricWarning: Precision and F-score are ill-defined and being set to 0.0 in labels with no predicted samples. Use `zero_division` parameter to control this behavior.\n",
      "  _warn_prf(average, modifier, msg_start, len(result))\n"
     ]
    },
    {
     "name": "stdout",
     "output_type": "stream",
     "text": [
      "              precision    recall  f1-score   support\n",
      "\n",
      "          AF       0.00      0.00      0.00      1841\n",
      "          AS       0.00      0.00      0.00       664\n",
      "          EU       0.39      0.53      0.45     28045\n",
      "          NA       0.39      0.49      0.43     27888\n",
      "          OC       0.00      0.00      0.00      5551\n",
      "          SA       0.00      0.00      0.00      9448\n",
      "\n",
      "    accuracy                           0.39     73437\n",
      "   macro avg       0.13      0.17      0.15     73437\n",
      "weighted avg       0.30      0.39      0.34     73437\n",
      "\n",
      "Train Accuracy: 0.39085202282228304\n"
     ]
    },
    {
     "name": "stderr",
     "output_type": "stream",
     "text": [
      "/Users/clarissajew/Desktop/da mining apriori/.venv/lib/python3.9/site-packages/sklearn/metrics/_classification.py:1471: UndefinedMetricWarning: Precision and F-score are ill-defined and being set to 0.0 in labels with no predicted samples. Use `zero_division` parameter to control this behavior.\n",
      "  _warn_prf(average, modifier, msg_start, len(result))\n",
      "/Users/clarissajew/Desktop/da mining apriori/.venv/lib/python3.9/site-packages/sklearn/metrics/_classification.py:1471: UndefinedMetricWarning: Precision and F-score are ill-defined and being set to 0.0 in labels with no predicted samples. Use `zero_division` parameter to control this behavior.\n",
      "  _warn_prf(average, modifier, msg_start, len(result))\n",
      "/Users/clarissajew/Desktop/da mining apriori/.venv/lib/python3.9/site-packages/sklearn/metrics/_classification.py:1471: UndefinedMetricWarning: Precision and F-score are ill-defined and being set to 0.0 in labels with no predicted samples. Use `zero_division` parameter to control this behavior.\n",
      "  _warn_prf(average, modifier, msg_start, len(result))\n"
     ]
    },
    {
     "name": "stdout",
     "output_type": "stream",
     "text": [
      "              precision    recall  f1-score   support\n",
      "\n",
      "          AF       0.00      0.00      0.00       384\n",
      "          AS       0.00      0.00      0.00       164\n",
      "          EU       0.38      0.51      0.43      6955\n",
      "          NA       0.39      0.49      0.43      7112\n",
      "          OC       0.00      0.00      0.00      1409\n",
      "          SA       0.00      0.00      0.00      2336\n",
      "\n",
      "    accuracy                           0.38     18360\n",
      "   macro avg       0.13      0.17      0.14     18360\n",
      "weighted avg       0.29      0.38      0.33     18360\n",
      "\n",
      "Test Accuracy: 0.38202614379084965\n"
     ]
    }
   ],
   "source": [
    "svd = TruncatedSVD(n_components=100)\n",
    "X_train_svd = svd.fit_transform(X_train.fillna(0))\n",
    "X_test_svd = svd.transform(X_test.fillna(0))\n",
    "\n",
    "knn.fit(X_train_svd, y_train)\n",
    "y_pred = knn.predict(X_test_svd)\n",
    "y_pred_train = knn.predict(X_train_svd)\n",
    "\n",
    "print(classification_report(y_train, y_pred_train))\n",
    "print(\"Train Accuracy:\", accuracy_score(y_train, y_pred_train))\n",
    "print(classification_report(y_test, y_pred))\n",
    "print(\"Test Accuracy:\", accuracy_score(y_test, y_pred))"
   ]
  },
  {
   "cell_type": "markdown",
   "metadata": {},
   "source": [
    "#### use support + downsampling"
   ]
  },
  {
   "cell_type": "code",
   "execution_count": 124,
   "metadata": {},
   "outputs": [
    {
     "name": "stdout",
     "output_type": "stream",
     "text": [
      "(169329, 1060)\n"
     ]
    }
   ],
   "source": [
    "matrix_sup = unpickle(\"matrix_sup.pkl\")\n",
    "print(matrix_sup.shape)"
   ]
  },
  {
   "cell_type": "code",
   "execution_count": 143,
   "metadata": {},
   "outputs": [
    {
     "data": {
      "text/plain": [
       "array([[0.09527238, 0.24233554, 0.07385616, ..., 0.        , 0.        ,\n",
       "        0.        ],\n",
       "       [0.        , 0.24233554, 0.        , ..., 0.        , 0.        ,\n",
       "        0.        ],\n",
       "       [0.        , 0.24233554, 0.        , ..., 0.        , 0.        ,\n",
       "        0.        ],\n",
       "       ...,\n",
       "       [0.        , 0.24233554, 0.        , ..., 0.        , 0.        ,\n",
       "        0.        ],\n",
       "       [0.09527238, 0.        , 0.        , ..., 0.        , 0.        ,\n",
       "        0.        ],\n",
       "       [0.        , 0.        , 0.        , ..., 0.        , 0.        ,\n",
       "        0.        ]])"
      ]
     },
     "execution_count": 143,
     "metadata": {},
     "output_type": "execute_result"
    }
   ],
   "source": [
    "matrix_sup"
   ]
  },
  {
   "cell_type": "code",
   "execution_count": 145,
   "metadata": {},
   "outputs": [],
   "source": [
    "df = pd.DataFrame(matrix_sup)\n",
    "df['continent'] = raw_df['continent']"
   ]
  },
  {
   "cell_type": "code",
   "execution_count": 146,
   "metadata": {},
   "outputs": [],
   "source": [
    "downsized_EU = resample(df.loc[df.continent=='EU'], replace=False, \n",
    "                        n_samples = 12000, random_state=42)\n",
    "downsized_NA = resample(df.loc[df.continent=='NA'], replace=False, \n",
    "                        n_samples = 12000, random_state=42)\n",
    "minorities = df[df.continent.isin(['SA', 'OC', 'AF', 'AS'])]\n",
    "downsized_df = pd.concat([downsized_EU, downsized_NA, minorities], axis=0)"
   ]
  },
  {
   "cell_type": "code",
   "execution_count": 147,
   "metadata": {},
   "outputs": [],
   "source": [
    "X = downsized_df.drop(columns=['continent'])\n",
    "y = downsized_df[['continent']]"
   ]
  },
  {
   "cell_type": "code",
   "execution_count": 148,
   "metadata": {},
   "outputs": [],
   "source": [
    "X_train, X_test, y_train, y_test = train_test_split(X, y, test_size=0.2, random_state=42)"
   ]
  },
  {
   "cell_type": "code",
   "execution_count": 149,
   "metadata": {},
   "outputs": [],
   "source": [
    "scaler = StandardScaler()\n",
    "X_train_scaled = scaler.fit_transform(X_train.fillna(0))\n",
    "X_test_scaled = scaler.transform(X_test.fillna(0))"
   ]
  },
  {
   "cell_type": "code",
   "execution_count": 150,
   "metadata": {},
   "outputs": [
    {
     "name": "stderr",
     "output_type": "stream",
     "text": [
      "/Users/clarissajew/Desktop/da mining apriori/.venv/lib/python3.9/site-packages/sklearn/neighbors/_classification.py:233: DataConversionWarning: A column-vector y was passed when a 1d array was expected. Please change the shape of y to (n_samples,), for example using ravel().\n",
      "  return self._fit(X, y)\n",
      "/Users/clarissajew/Desktop/da mining apriori/.venv/lib/python3.9/site-packages/sklearn/metrics/_classification.py:1471: UndefinedMetricWarning: Precision and F-score are ill-defined and being set to 0.0 in labels with no predicted samples. Use `zero_division` parameter to control this behavior.\n",
      "  _warn_prf(average, modifier, msg_start, len(result))\n",
      "/Users/clarissajew/Desktop/da mining apriori/.venv/lib/python3.9/site-packages/sklearn/metrics/_classification.py:1471: UndefinedMetricWarning: Precision and F-score are ill-defined and being set to 0.0 in labels with no predicted samples. Use `zero_division` parameter to control this behavior.\n",
      "  _warn_prf(average, modifier, msg_start, len(result))\n",
      "/Users/clarissajew/Desktop/da mining apriori/.venv/lib/python3.9/site-packages/sklearn/metrics/_classification.py:1471: UndefinedMetricWarning: Precision and F-score are ill-defined and being set to 0.0 in labels with no predicted samples. Use `zero_division` parameter to control this behavior.\n",
      "  _warn_prf(average, modifier, msg_start, len(result))\n"
     ]
    },
    {
     "name": "stdout",
     "output_type": "stream",
     "text": [
      "              precision    recall  f1-score   support\n",
      "\n",
      "          AF       0.00      0.00      0.00      1766\n",
      "          AS       0.00      0.00      0.00       652\n",
      "          EU       0.32      0.01      0.02      9597\n",
      "          NA       0.30      0.27      0.28      9666\n",
      "          OC       0.00      0.00      0.00      5567\n",
      "          SA       0.27      0.79      0.40      9389\n",
      "\n",
      "    accuracy                           0.27     36637\n",
      "   macro avg       0.15      0.18      0.12     36637\n",
      "weighted avg       0.23      0.27      0.18     36637\n",
      "\n",
      "Train Accuracy: 0.2748860441630046\n",
      "              precision    recall  f1-score   support\n",
      "\n",
      "          AF       0.00      0.00      0.00       459\n",
      "          AS       0.00      0.00      0.00       176\n",
      "          EU       0.23      0.01      0.02      2403\n",
      "          NA       0.27      0.24      0.25      2334\n",
      "          OC       0.00      0.00      0.00      1393\n",
      "          SA       0.27      0.77      0.40      2395\n",
      "\n",
      "    accuracy                           0.27      9160\n",
      "   macro avg       0.13      0.17      0.11      9160\n",
      "weighted avg       0.20      0.27      0.17      9160\n",
      "\n",
      "Test Accuracy: 0.26615720524017467\n"
     ]
    },
    {
     "name": "stderr",
     "output_type": "stream",
     "text": [
      "/Users/clarissajew/Desktop/da mining apriori/.venv/lib/python3.9/site-packages/sklearn/metrics/_classification.py:1471: UndefinedMetricWarning: Precision and F-score are ill-defined and being set to 0.0 in labels with no predicted samples. Use `zero_division` parameter to control this behavior.\n",
      "  _warn_prf(average, modifier, msg_start, len(result))\n",
      "/Users/clarissajew/Desktop/da mining apriori/.venv/lib/python3.9/site-packages/sklearn/metrics/_classification.py:1471: UndefinedMetricWarning: Precision and F-score are ill-defined and being set to 0.0 in labels with no predicted samples. Use `zero_division` parameter to control this behavior.\n",
      "  _warn_prf(average, modifier, msg_start, len(result))\n",
      "/Users/clarissajew/Desktop/da mining apriori/.venv/lib/python3.9/site-packages/sklearn/metrics/_classification.py:1471: UndefinedMetricWarning: Precision and F-score are ill-defined and being set to 0.0 in labels with no predicted samples. Use `zero_division` parameter to control this behavior.\n",
      "  _warn_prf(average, modifier, msg_start, len(result))\n"
     ]
    }
   ],
   "source": [
    "svd = TruncatedSVD(n_components=500)\n",
    "X_train_svd = svd.fit_transform(X_train_scaled)\n",
    "X_test_svd = svd.transform(X_test_scaled)\n",
    "\n",
    "knn.fit(X_train_svd, y_train)\n",
    "y_pred = knn.predict(X_test_svd)\n",
    "y_pred_train = knn.predict(X_train_svd)\n",
    "\n",
    "print(classification_report(y_train, y_pred_train))\n",
    "print(\"Train Accuracy:\", accuracy_score(y_train, y_pred_train))\n",
    "print(classification_report(y_test, y_pred))\n",
    "print(\"Test Accuracy:\", accuracy_score(y_test, y_pred))"
   ]
  },
  {
   "cell_type": "markdown",
   "metadata": {},
   "source": [
    "### try using country"
   ]
  },
  {
   "cell_type": "code",
   "execution_count": 151,
   "metadata": {},
   "outputs": [
    {
     "name": "stderr",
     "output_type": "stream",
     "text": [
      "/var/folders/nx/kk9254gs11j6wf22p7z4mb140000gn/T/ipykernel_28101/2389161420.py:1: DtypeWarning: Columns (9,10,11) have mixed types. Specify dtype option on import or set low_memory=False.\n",
      "  raw_df = pd.read_csv(\"03_winemag-data-reduced.csv\", index_col=0)\n"
     ]
    }
   ],
   "source": [
    "raw_df = pd.read_csv(\"03_winemag-data-reduced.csv\", index_col=0)\n",
    "raw_df = raw_df[['country']]\n",
    "df = pd.DataFrame(matrix)\n",
    "df['country'] = raw_df['country']\n",
    "df = df.dropna()"
   ]
  },
  {
   "cell_type": "code",
   "execution_count": 152,
   "metadata": {},
   "outputs": [],
   "source": [
    "X = df.drop(columns=['country'])\n",
    "y = df[['country']]\n",
    "X_train, X_test, y_train, y_test = train_test_split(X, y, test_size=0.2, random_state=42)\n",
    "\n",
    "scaler = StandardScaler()\n",
    "X_train_scaled = scaler.fit_transform(X_train.fillna(0))\n",
    "X_test_scaled = scaler.transform(X_test.fillna(0))\n",
    "\n",
    "min_num_components = get_optimal_pca_components(X_train_scaled, min_explained_var=0.95)\n",
    "transformed = PCA(n_components=min_num_components).fit(X_train_scaled)\n",
    "X_train_PCA = pd.DataFrame(transformed.transform(X_train_scaled))\n",
    "X_test_PCA = pd.DataFrame(transformed.transform(X_test_scaled))"
   ]
  },
  {
   "cell_type": "code",
   "execution_count": 153,
   "metadata": {},
   "outputs": [
    {
     "name": "stderr",
     "output_type": "stream",
     "text": [
      "/Users/clarissajew/Desktop/da mining apriori/.venv/lib/python3.9/site-packages/sklearn/neighbors/_classification.py:233: DataConversionWarning: A column-vector y was passed when a 1d array was expected. Please change the shape of y to (n_samples,), for example using ravel().\n",
      "  return self._fit(X, y)\n",
      "/Users/clarissajew/Desktop/da mining apriori/.venv/lib/python3.9/site-packages/sklearn/metrics/_classification.py:1471: UndefinedMetricWarning: Precision and F-score are ill-defined and being set to 0.0 in labels with no predicted samples. Use `zero_division` parameter to control this behavior.\n",
      "  _warn_prf(average, modifier, msg_start, len(result))\n",
      "/Users/clarissajew/Desktop/da mining apriori/.venv/lib/python3.9/site-packages/sklearn/metrics/_classification.py:1471: UndefinedMetricWarning: Precision and F-score are ill-defined and being set to 0.0 in labels with no predicted samples. Use `zero_division` parameter to control this behavior.\n",
      "  _warn_prf(average, modifier, msg_start, len(result))\n",
      "/Users/clarissajew/Desktop/da mining apriori/.venv/lib/python3.9/site-packages/sklearn/metrics/_classification.py:1471: UndefinedMetricWarning: Precision and F-score are ill-defined and being set to 0.0 in labels with no predicted samples. Use `zero_division` parameter to control this behavior.\n",
      "  _warn_prf(average, modifier, msg_start, len(result))\n"
     ]
    },
    {
     "name": "stdout",
     "output_type": "stream",
     "text": [
      "                        precision    recall  f1-score   support\n",
      "\n",
      "               Albania       0.00      0.00      0.00         1\n",
      "             Argentina       0.00      0.00      0.00      4278\n",
      "               Armenia       0.00      0.00      0.00         1\n",
      "             Australia       0.00      0.00      0.00      3485\n",
      "               Austria       0.00      0.00      0.00      3177\n",
      "Bosnia and Herzegovina       0.00      0.00      0.00         2\n",
      "                Brazil       0.00      0.00      0.00        46\n",
      "              Bulgaria       0.00      0.00      0.00       112\n",
      "                Canada       0.00      0.00      0.00       218\n",
      "                 Chile       0.00      0.00      0.00      4909\n",
      "                 China       0.00      0.00      0.00         3\n",
      "               Croatia       0.00      0.00      0.00        75\n",
      "                Cyprus       0.00      0.00      0.00        13\n",
      "        Czech Republic       0.00      0.00      0.00        12\n",
      "                 Egypt       0.00      0.00      0.00         3\n",
      "               England       0.00      0.00      0.00        46\n",
      "                France       0.00      0.00      0.00     21717\n",
      "               Georgia       0.00      0.00      0.00        70\n",
      "               Germany       0.00      0.00      0.00      2211\n",
      "                Greece       0.00      0.00      0.00       581\n",
      "               Hungary       0.00      0.00      0.00       173\n",
      "                 India       0.00      0.00      0.00         8\n",
      "                Israel       0.00      0.00      0.00       467\n",
      "                 Italy       0.00      0.00      0.00     20039\n",
      "                 Japan       0.00      0.00      0.00         1\n",
      "               Lebanon       0.00      0.00      0.00        25\n",
      "             Lithuania       0.00      0.00      0.00         3\n",
      "            Luxembourg       0.00      0.00      0.00         7\n",
      "             Macedonia       0.00      0.00      0.00        13\n",
      "                Mexico       0.00      0.00      0.00        70\n",
      "               Moldova       0.00      0.00      0.00        59\n",
      "            Montenegro       0.00      0.00      0.00         1\n",
      "               Morocco       0.00      0.00      0.00        21\n",
      "           New Zealand       0.00      0.00      0.00      2125\n",
      "                  Peru       0.00      0.00      0.00        13\n",
      "              Portugal       0.00      0.00      0.00      5541\n",
      "               Romania       0.00      0.00      0.00       122\n",
      "                Serbia       0.00      0.00      0.00         9\n",
      "              Slovakia       0.00      0.00      0.00         1\n",
      "              Slovenia       0.00      0.00      0.00        76\n",
      "          South Africa       0.00      0.00      0.00      1756\n",
      "           South Korea       0.00      0.00      0.00         1\n",
      "                 Spain       0.00      0.00      0.00      7041\n",
      "           Switzerland       0.00      0.00      0.00         5\n",
      "               Tunisia       0.00      0.00      0.00         2\n",
      "                Turkey       0.00      0.00      0.00        69\n",
      "                    US       0.42      1.00      0.59     56643\n",
      "             US-France       0.00      0.00      0.00         1\n",
      "               Ukraine       0.00      0.00      0.00        14\n",
      "               Uruguay       0.00      0.00      0.00       116\n",
      "\n",
      "              accuracy                           0.42    135382\n",
      "             macro avg       0.01      0.02      0.01    135382\n",
      "          weighted avg       0.18      0.42      0.25    135382\n",
      "\n",
      "Train Accuracy: 0.4183938780635535\n"
     ]
    },
    {
     "name": "stderr",
     "output_type": "stream",
     "text": [
      "/Users/clarissajew/Desktop/da mining apriori/.venv/lib/python3.9/site-packages/sklearn/metrics/_classification.py:1471: UndefinedMetricWarning: Precision and F-score are ill-defined and being set to 0.0 in labels with no predicted samples. Use `zero_division` parameter to control this behavior.\n",
      "  _warn_prf(average, modifier, msg_start, len(result))\n",
      "/Users/clarissajew/Desktop/da mining apriori/.venv/lib/python3.9/site-packages/sklearn/metrics/_classification.py:1471: UndefinedMetricWarning: Precision and F-score are ill-defined and being set to 0.0 in labels with no predicted samples. Use `zero_division` parameter to control this behavior.\n",
      "  _warn_prf(average, modifier, msg_start, len(result))\n"
     ]
    },
    {
     "name": "stdout",
     "output_type": "stream",
     "text": [
      "                        precision    recall  f1-score   support\n",
      "\n",
      "             Argentina       0.00      0.00      0.00      1160\n",
      "               Armenia       0.00      0.00      0.00         1\n",
      "             Australia       0.00      0.00      0.00       883\n",
      "               Austria       0.00      0.00      0.00       780\n",
      "Bosnia and Herzegovina       0.00      0.00      0.00         1\n",
      "                Brazil       0.00      0.00      0.00        11\n",
      "              Bulgaria       0.00      0.00      0.00        39\n",
      "                Canada       0.00      0.00      0.00        55\n",
      "                 Chile       0.00      0.00      0.00      1223\n",
      "               Croatia       0.00      0.00      0.00        19\n",
      "                Cyprus       0.00      0.00      0.00         6\n",
      "        Czech Republic       0.00      0.00      0.00         2\n",
      "               England       0.00      0.00      0.00        18\n",
      "                France       0.00      0.00      0.00      5424\n",
      "               Georgia       0.00      0.00      0.00        16\n",
      "               Germany       0.00      0.00      0.00       583\n",
      "                Greece       0.00      0.00      0.00       159\n",
      "               Hungary       0.00      0.00      0.00        37\n",
      "                 India       0.00      0.00      0.00         1\n",
      "                Israel       0.00      0.00      0.00       128\n",
      "                 Italy       0.00      0.00      0.00      4942\n",
      "               Lebanon       0.00      0.00      0.00        17\n",
      "             Lithuania       0.00      0.00      0.00         1\n",
      "            Luxembourg       0.00      0.00      0.00         1\n",
      "             Macedonia       0.00      0.00      0.00         5\n",
      "                Mexico       0.00      0.00      0.00        19\n",
      "               Moldova       0.00      0.00      0.00        18\n",
      "               Morocco       0.00      0.00      0.00         5\n",
      "           New Zealand       0.00      0.00      0.00       467\n",
      "                  Peru       0.00      0.00      0.00         3\n",
      "              Portugal       0.00      0.00      0.00      1360\n",
      "               Romania       0.00      0.00      0.00        34\n",
      "                Serbia       0.00      0.00      0.00         2\n",
      "              Slovakia       0.00      0.00      0.00         1\n",
      "              Slovenia       0.00      0.00      0.00        16\n",
      "          South Africa       0.00      0.00      0.00       438\n",
      "           South Korea       0.00      0.00      0.00         1\n",
      "                 Spain       0.00      0.00      0.00      1770\n",
      "           Switzerland       0.00      0.00      0.00         2\n",
      "                Turkey       0.00      0.00      0.00        19\n",
      "                    US       0.42      1.00      0.59     14151\n",
      "               Ukraine       0.00      0.00      0.00         3\n",
      "               Uruguay       0.00      0.00      0.00        25\n",
      "\n",
      "              accuracy                           0.42     33846\n",
      "             macro avg       0.01      0.02      0.01     33846\n",
      "          weighted avg       0.17      0.42      0.25     33846\n",
      "\n",
      "Test Accuracy: 0.41809962772558057\n"
     ]
    },
    {
     "name": "stderr",
     "output_type": "stream",
     "text": [
      "/Users/clarissajew/Desktop/da mining apriori/.venv/lib/python3.9/site-packages/sklearn/metrics/_classification.py:1471: UndefinedMetricWarning: Precision and F-score are ill-defined and being set to 0.0 in labels with no predicted samples. Use `zero_division` parameter to control this behavior.\n",
      "  _warn_prf(average, modifier, msg_start, len(result))\n"
     ]
    }
   ],
   "source": [
    "knn = KNeighborsClassifier(n_neighbors=1000)\n",
    "knn.fit(X_train_PCA, y_train)\n",
    "y_pred = knn.predict(X_test_PCA)\n",
    "y_pred_train = knn.predict(X_train_PCA)\n",
    "\n",
    "print(classification_report(y_train, y_pred_train))\n",
    "print(\"Train Accuracy:\", accuracy_score(y_train, y_pred_train))\n",
    "print(classification_report(y_test, y_pred))\n",
    "print(\"Test Accuracy:\", accuracy_score(y_test, y_pred))"
   ]
  },
  {
   "cell_type": "code",
   "execution_count": 155,
   "metadata": {},
   "outputs": [
    {
     "data": {
      "text/plain": [
       "US    33846\n",
       "Name: count, dtype: int64"
      ]
     },
     "execution_count": 155,
     "metadata": {},
     "output_type": "execute_result"
    }
   ],
   "source": [
    "pd.Series(y_pred).value_counts()"
   ]
  },
  {
   "cell_type": "code",
   "execution_count": null,
   "metadata": {},
   "outputs": [],
   "source": []
  }
 ],
 "metadata": {
  "kernelspec": {
   "display_name": ".venv",
   "language": "python",
   "name": "python3"
  },
  "language_info": {
   "codemirror_mode": {
    "name": "ipython",
    "version": 3
   },
   "file_extension": ".py",
   "mimetype": "text/x-python",
   "name": "python",
   "nbconvert_exporter": "python",
   "pygments_lexer": "ipython3",
   "version": "3.9.6"
  }
 },
 "nbformat": 4,
 "nbformat_minor": 2
}
